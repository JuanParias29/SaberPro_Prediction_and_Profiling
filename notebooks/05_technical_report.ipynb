{
  "nbformat": 4,
  "nbformat_minor": 0,
  "metadata": {
    "colab": {
      "provenance": []
    },
    "kernelspec": {
      "name": "python3",
      "display_name": "Python 3"
    },
    "language_info": {
      "name": "python"
    }
  },
  "cells": [
    {
      "cell_type": "markdown",
      "source": [
        "Integrantes:\n",
        "\n",
        "\n",
        "- [Juan Pablo Arias](https://github.com/JuanPabloArias) - Scrum Master & Data Analyst\n",
        "\n",
        "- [Sergio Pardo](https://github.com/SergioPardoHurtado) - Data Scientist (ML & Visualization)\n",
        "\n",
        "- [Paula Andrea Romero](https://github.com/Andyy870)  - Machine Learning Engineer\n",
        "\n",
        "- [Laura Beltrán](https://github.com/Andyy870) - Business & Data Strategy Analyst\n"
      ],
      "metadata": {
        "id": "Ir9lCtOqf-kY"
      }
    },
    {
      "cell_type": "markdown",
      "source": [
        "# **Proyecto de Aplicación 1**"
      ],
      "metadata": {
        "id": "obLUINRLfd_W"
      }
    },
    {
      "cell_type": "markdown",
      "source": [
        "Objetivo: El proyecto busca desarrollar un modelo de aprendizaje de máquina que, a partir de variables sociales, económicas y académicas de estudiantes aspirantes o en proceso de ingreso a programas de educación superior que permita:\n",
        "\n",
        "*   Predecir el puntaje probable que obtendrán en las pruebas Saber Pro\n",
        "considerando factores sociales, económicos y académicos.\n",
        "*   Segmentar y clasificar grupos de estudiantes con el fin de identificar\n",
        "perfiles característicos según criterios como rendimiento, condiciones\n",
        "socioeconómicas y tipo de programa cursado.\n",
        "\n",
        "*Base de Datos:* : [Resultados únicos Saber Pro.](https://www.datos.gov.co/Educaci-n/Resultados-nicos-Saber-Pro/u37r-hjmu/about_data)\n",
        "\n",
        "Dimensión: 1,22 millones de registros, 57 variables.\n",
        "\n",
        "Descripción: (de donde se obtuvieron los datos)"
      ],
      "metadata": {
        "id": "1z3HmKMvfoMV"
      }
    },
    {
      "cell_type": "markdown",
      "source": [
        "## Elevator Pitch"
      ],
      "metadata": {
        "id": "BCex-ivVgcEW"
      }
    },
    {
      "cell_type": "markdown",
      "source": [
        "*Preguntas de negocio y de análisis*:\n",
        "1.   ¿Cuáles son los factores sociales, económicos y académicos que más inciden en el desempeño de los estudiantes en las pruebas Saber Pro?\n",
        "2.   ¿Cómo se pueden identificar y agrupar patrones o perfiles característicos de estudiantes según su rendimiento, condiciones socioeconómicas y tipo de programa cursado, utilizando técnicas de aprendizaje no supervisado?\n",
        "3.   A partir de esta segmentación y la información predictiva obtenida, ¿De qué manera pueden las universidades y entidades educativas diseñar políticas de admisión, acompañamiento académico y apoyo financiero para reducir el riesgo de bajo desempeño y potenciar el éxito estudiantil?\n",
        "\n",
        "*Justificación:*\n",
        " Responder estas preguntas permite a las instituciones educativas pasar de un enfoque reactivo a uno preventivo. Al conocer los factores críticos y segmentar perfiles de estudiantes, se pueden diseñar estrategias de admisión, tutoría y financiamiento basadas en datos reales, optimizando recursos y mejorando los indicadores de retención y desempeño académico.\n"
      ],
      "metadata": {
        "id": "UgXygDP1yrkD"
      }
    },
    {
      "cell_type": "markdown",
      "source": [
        "**Importancia del proyecto**\n",
        "\n",
        "*  *Valor estratégico en la toma de decisiones*\n",
        "\n",
        "Nuestro proyecto transforma millones de registros del Saber Pro en conocimiento accionable que respalda decisiones críticas de las instituciones de educación superior. Al convertir datos masivos en inteligencia estratégica, las universidades pueden fundamentar sus políticas de admisión, acompañamiento académico y retención estudiantil en evidencia sólida, minimizando la intuición y maximizando la efectividad.\n",
        "\n",
        "*   *Optimización y focalización de recursos*\n",
        "\n",
        "Al identificar perfiles de estudiantes y sus necesidades específicas, la propuesta permite asignar becas, apoyos financieros y programas de tutoría con mayor precisión. Este enfoque asegura que los recursos limitados se dirijan a los grupos con mayor potencial de mejora y a quienes realmente lo necesitan, logrando un mayor impacto social y un uso más eficiente del presupuesto institucional.\n",
        "\n",
        "*   *Innovación educativa basada en datos*\n",
        "\n",
        "El proyecto aplica técnicas avanzadas de aprendizaje de máquina, como clustering y análisis de patrones, para extraer información significativa de una base con más de 1,2 millones de registros y 57 variables. Esta innovación no solo moderniza la gestión académica, sino que sitúa a las instituciones que lo adopten a la vanguardia de la transformación digital en educación superior.\n",
        "\n",
        "*   *Impacto social y compromiso con la equidad*\n",
        "\n",
        "Al descubrir talento en estudiantes de contextos socioeconómicos desafiantes y anticipar riesgos de bajo desempeño, el modelo impulsa la equidad educativa. Facilita la creación de oportunidades para quienes podrían quedar rezagados, contribuyendo a reducir brechas sociales y promoviendo la movilidad académica y profesional."
      ],
      "metadata": {
        "id": "9Nkyy0X15alW"
      }
    },
    {
      "cell_type": "markdown",
      "source": [
        "## Diccionario y Justificación de Datos"
      ],
      "metadata": {
        "id": "-g_G6ONz5ID3"
      }
    },
    {
      "cell_type": "markdown",
      "metadata": {
        "id": "0f58e95d"
      },
      "source": [
        "### Tabla Descriptiva del Conjunto de Datos\n",
        "\n",
        "A continuación, se presenta una tabla descriptiva de los campos del conjunto de datos \"Resultados únicos Saber Pro\".\n",
        "\n",
        "| Nombre del Campo | Tipo de Dato | Descripción de Negocio |\n",
        "|---|---|---|\n",
        "| PERIODO | Fecha/Periodo (entero que codifica año y semestre) | Indica la cohorte de aplicación de la prueba; permite analizar tendencias temporales y comparar periodos académicos. |\n",
        "| ESTU_CONSECUTIVO | Identificador (texto) | Código único del estudiante en el examen; solo para trazabilidad, no se usa como variable predictora. |\n",
        "| ESTU_TIPODOCUMENTO | Categoría nominal | Tipo de documento de identidad; útil solo para validar registros, no para el modelo predictivo. |\n",
        "| ESTU_PAIS_RESIDE | Categoría nominal | País de residencia del examinando |\n",
        "| ESTU_COD_RESIDE_DEPTO | Categoría nominal (código) | Permite segmentar estudiantes por departamento de residencia y analizar diferencias territoriales de desempeño. |\n",
        "| ESTU_DEPTO_RESIDE | Categoría nominal | Permite segmentar estudiantes por departamento de residencia y analizar diferencias territoriales de desempeño. |\n",
        "| ESTU_COD_RESIDE_MCPIO | Categoría nominal (código) | Permite segmentar estudiantes por municipio de residencia y analizar diferencias territoriales de desempeño. |\n",
        "| ESTU_MCPIO_RESIDE | Categoría nominal | Permite segmentar estudiantes por municipio de residencia y analizar diferencias territoriales de desempeño. |\n",
        "| ESTU_CODDANE_COLE_TERMINO | Categoría nominal (código) | Código Dane del Colegio donde se graduó. |\n",
        "| ESTU_COD_COLE_MCPIO_TERMINO | Categoría nominal (código) | Municipio donde termino bachillerato. |\n",
        "| ESTU_COD_DEPTO_PRESENTACION | Categoría nominal (código) | Código Departamento de Presentación del examen. |\n",
        "| INST_COD_INSTITUCION | Categoría nominal (código) | Código de la Institución de Educación Superior. |\n",
        "| INST_NOMBRE_INSTITUCION | Categoría nominal | Nombre de la Institución de Educación Superior. |\n",
        "| INST_CARACTER_ACADEMICO | Categoría nominal | Carácter/Tipo Académico de la Institución (Institución Universitaria, Universidad, Institución Tecnológica, etc.) |\n",
        "| ESTU_NUCLEO_PREGRADO | Categoría nominal | Núcleo asociado al pregrado; ayuda a estudiar variaciones en puntajes por núcleo asociado. |\n",
        "| ESTU_INST_DEPARTAMENTO | Categoría nominal | Departamento de la Institución de Educación Superior. |\n",
        "| ESTU_INST_CODMUNICIPIO | Categoría nominal (código) | Código del municipio de la Institución de Educación Superior. |\n",
        "| ESTU_INST_MUNICIPIO | Categoría nominal | Municipio de la Institución de Educación Superior. |\n",
        "| ESTU_PRGM_ACADEMICO | Categoría nominal | Identifica el programa académico; ayuda a estudiar variaciones en puntajes por carrera. |\n",
        "| ESTU_PRGM_DEPARTAMENTO | Categoría nominal | Departamento del programa académico. |\n",
        "| ESTU_PRGM_CODMUNICIPIO | Categoría nominal (código) | Código del municipio del programa académico. |\n",
        "| ESTU_PRGM_MUNICIPIO | Categoría nominal | Municipio del programa académico. |\n",
        "| ESTU_NIVEL_PRGM_ACADEMICO | Categoría nominal | Nivel del programa académico. |\n",
        "| ESTU_METODO_PRGM | Categoría nominal | Metodología del programa académico (Presencial, Distancia, etc.) |\n",
        "| ESTU_VALORMATRICULAUNIVERSIDAD | Categoría ordinal | Valor matricula de la universidad. |\n",
        "| ESTU_DEPTO_PRESENTACION | Categoría nominal | Departamento de Presentación del examen. |\n",
        "| ESTU_COD_MCPIO_PRESENTACION | Categoría nominal (código) | Código de Municipio de Presentación del examen. |\n",
        "| ESTU_MCPIO_PRESENTACION | Categoría nominal | Municipio de Presentación del examen. |\n",
        "| ESTU_PAGOMATRICULABECA | Binario/Booleano | ¿Paga usted mismo su matricula? (Si/No) |\n",
        "| ESTU_PAGOMATRICULACREDITO | Binario/Booleano | ¿Tiene crédito para pagar su matricula? (Si/No) |\n",
        "| ESTU_HORASSEMANATRABAJA | Categoría ordinal | Refleja la carga laboral semanal; posible factor de influencia en el rendimiento. |\n",
        "| ESTU_SNIES_PRGMACADEMICO | Categoría nominal (código) | Código Snies del Programa Académico. |\n",
        "| ESTU_PRIVADO_LIBERTAD | Binario/Booleano | ¿Es privado de la libertad? (S/N) |\n",
        "| ESTU_NACIONALIDAD | Categoría nominal | Nacionalidad del examinando. |\n",
        "| ESTU_ESTUDIANTE | Categoría nominal | Estudiante (Irrelevante) |\n",
        "| ESTU_GENERO | Categoría nominal | Permite evaluar brechas de desempeño por género (F/M). |\n",
        "| ESTU_COLE_TERMINO | Categoría nominal | Colegio donde termino bachillerato. |\n",
        "| ESTU_PAGOMATRICULAPADRES | Binario/Booleano | ¿Sus padres pagan su matricula? (Si/No) |\n",
        "| ESTU_ESTADOINVESTIGACION | Categoría nominal | ¿Permite publicar la investigación? (irrelevante, todas las respuestas son PUBLICAR) |\n",
        "| ESTU_FECHANACIMIENTO | Fecha | Usada para calcular edad al momento del examen, variable potencial para análisis demográfico. |\n",
        "| ESTU_PAGOMATRICULAPROPIO | Binario/Booleano | ¿Paga usted mismo su matricula? (Si/No) |\n",
        "| ESTU_TIPODOCUMENTOSB11 | Categoría nominal | Tipo de documento con el que presento Saber 11. |\n",
        "| FAMI_EDUCACIONPADRE | Categoría ordinal | Nivel de estudios del padre. |\n",
        "| FAMI_TIENEAUTOMOVIL | Binario/Booleano | ¿Tiene automóvil? (Si/No) |\n",
        "| FAMI_TIENELAVADORA | Binario/Booleano | ¿Tiene lavadora? (Si/No) |\n",
        "| FAMI_ESTRATOVIVIENDA | Categoría ordinal | Estrato del examinando. |\n",
        "| FAMI_TIENECOMPUTADOR | Binario/Booleano | ¿Tiene computador? (Si/No) |\n",
        "| FAMI_TIENEINTERNET | Binario/Booleano | ¿Tiene internet? (Si/No) |\n",
        "| FAMI_EDUCACIONMADRE | Categoría ordinal | Nivel de estudios de la madre. |\n",
        "| INST_ORIGEN | Categoría nominal | Tipo de Institución en la que Estudia (No oficial-corporación, oficial departamental, oficial nacional, etc.) |\n",
        "| MOD_RAZONA_CUANTITAT_PUNT | Numérico continuo | Puntaje Modulo Razonamiento Cuantitativo. |\n",
        "| MOD_COMUNI_ESCRITA_PUNT | Numérico continuo | Puntaje Modulo Comunicación Escrita. |\n",
        "| MOD_COMUNI_ESCRITA_DESEM | Numérico continuo | Desempeño Modulo comunicación escrita (1,2,3). |\n",
        "| MOD_INGLES_DESEM | Categoría ordinal | Desempeño modulo de Inglés; puede relacionarse con puntajes globales y con áreas específicas. |\n",
        "| MOD_LECTURA_CRITICA_PUNT | Numérico continuo | Puntaje Modulo Lectura Crítica. |\n",
        "| MOD_INGLES_PUNT | Numérico continuo | Puntaje Modulo Inglés. |\n",
        "| MOD_COMPETEN_CIUDADA_PUNT | Numérico continuo | Puntaje Modulo Competencias Ciudadanas. |\n",
        "|  |  |  |\n",
        "| PUNTAJE_GLOBAL |  | Puntaje global obtenido en la prueba Saber Pro. |\n",
        "| PERCENTIL_GLOBAL |  | Percentil global obtenido en la prueba Saber Pro. |\n",
        "|  |  |  |"
      ]
    },
    {
      "cell_type": "markdown",
      "source": [
        "### Justificación para la inclusión de datos complementarios (?)\n",
        "\n",
        "Podría ser añadir dos columnas de puntaje global y percentil global del estudiante en la prueba Saber Pro ????"
      ],
      "metadata": {
        "id": "lA6aCuI-kXQo"
      }
    },
    {
      "cell_type": "markdown",
      "source": [
        "### Estrategia de integración de los datos adicionales con el conjunto original. (?)\n",
        "\n"
      ],
      "metadata": {
        "id": "50IROGCmHdK5"
      }
    },
    {
      "cell_type": "code",
      "source": [
        "# no se integraran datos de otras fuentes (los datos recopilados en la prueba\n",
        "# permiten hacer un análisis completo de los objetivos de negocio)"
      ],
      "metadata": {
        "id": "qCABMPRmH9yw"
      },
      "execution_count": 1,
      "outputs": []
    },
    {
      "cell_type": "markdown",
      "source": [
        "## Análisis Exploratorio de Datos (EDA)"
      ],
      "metadata": {
        "id": "w8VR23LgH9Mp"
      }
    },
    {
      "cell_type": "code",
      "source": [],
      "metadata": {
        "id": "HOHKH46TIHVf"
      },
      "execution_count": 1,
      "outputs": []
    },
    {
      "cell_type": "markdown",
      "source": [
        "## Preparación de Datos e Ingeniería de Características"
      ],
      "metadata": {
        "id": "ghNw4tSFIPG3"
      }
    },
    {
      "cell_type": "code",
      "source": [],
      "metadata": {
        "id": "hnfN4hKiIVaL"
      },
      "execution_count": 1,
      "outputs": []
    },
    {
      "cell_type": "markdown",
      "source": [
        "## Modelado, Evaluación e Interpretación"
      ],
      "metadata": {
        "id": "oHDArLrFIa6b"
      }
    },
    {
      "cell_type": "code",
      "source": [],
      "metadata": {
        "id": "LTKbr_maIccN"
      },
      "execution_count": 1,
      "outputs": []
    }
  ]
}